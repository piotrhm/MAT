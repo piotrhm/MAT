{
 "cells": [
  {
   "cell_type": "markdown",
   "metadata": {
    "collapsed": true
   },
   "source": [
    "# Prepare Data Set\n",
    "\n",
    "First, a data set is loaded. Function `load_data_from_df` automatically saves calculated features to the provided data directory (unless `use_data_saving` is set to `False`). Every next run will use the saved features."
   ]
  },
  {
   "cell_type": "code",
   "execution_count": null,
   "metadata": {
    "scrolled": true
   },
   "outputs": [],
   "source": [
    "import os\n",
    "import pandas as pd\n",
    "import matplotlib.pyplot as plt\n",
    "import torch"
   ]
  },
  {
   "cell_type": "code",
   "execution_count": null,
   "metadata": {},
   "outputs": [],
   "source": [
    "import numpy as np"
   ]
  },
  {
   "cell_type": "code",
   "execution_count": null,
   "metadata": {},
   "outputs": [],
   "source": [
    "from src.featurization.data_utils import load_data_from_df, construct_loader"
   ]
  },
  {
   "cell_type": "code",
   "execution_count": null,
   "metadata": {},
   "outputs": [],
   "source": [
    "batch_size = 64\n",
    "\n",
    "# Formal charges are one-hot encoded to keep compatibility with the pre-trained weights.\n",
    "# If you do not plan to use the pre-trained weights, we recommend to set one_hot_formal_charge to False.\n",
    "X, y = load_data_from_df('data/freesolv/freesolv.csv', one_hot_formal_charge=True)\n",
    "data_loader = construct_loader(X, y, batch_size)"
   ]
  },
  {
   "cell_type": "markdown",
   "metadata": {},
   "source": [
    "You can use your data, but the CSV file should contain two columns as shown below:"
   ]
  },
  {
   "cell_type": "code",
   "execution_count": null,
   "metadata": {},
   "outputs": [],
   "source": [
    "df = pd.read_csv('data/freesolv/freesolv.csv')"
   ]
  },
  {
   "cell_type": "markdown",
   "metadata": {},
   "source": [
    "# Prepare Model"
   ]
  },
  {
   "cell_type": "code",
   "execution_count": null,
   "metadata": {},
   "outputs": [],
   "source": [
    "from src.transformer import make_model"
   ]
  },
  {
   "cell_type": "code",
   "execution_count": null,
   "metadata": {},
   "outputs": [],
   "source": [
    "d_atom = X[0][0].shape[1]  # It depends on the used featurization.\n",
    "\n",
    "model_params = {\n",
    "    'd_atom': d_atom,\n",
    "    'd_model': 1024,\n",
    "    'N': 8,\n",
    "    'h': 16,\n",
    "    'N_dense': 1,\n",
    "    'lambda_attention': 0.33, \n",
    "    'lambda_distance': 0.33,\n",
    "    'leaky_relu_slope': 0.1, \n",
    "    'dense_output_nonlinearity': 'relu', \n",
    "    'distance_matrix_kernel': 'exp', \n",
    "    'dropout': 0.0,\n",
    "    'aggregation_type': 'mean'\n",
    "}\n",
    "\n",
    "model = make_model(**model_params)"
   ]
  },
  {
   "cell_type": "markdown",
   "metadata": {},
   "source": [
    "# Load Pretrained Weights (optional)\n",
    "\n",
    "If you want to use the pre-trained weights to train your model, **you should not change model parameters in the cell above**."
   ]
  },
  {
   "cell_type": "code",
   "execution_count": null,
   "metadata": {
    "scrolled": true
   },
   "outputs": [],
   "source": [
    "pretrained_name = 'pretrained_weights.pt'  # This file should be downloaded first (See README.md).\n",
    "pretrained_state_dict = torch.load(pretrained_name)"
   ]
  },
  {
   "cell_type": "code",
   "execution_count": null,
   "metadata": {},
   "outputs": [],
   "source": [
    "model_state_dict = model.state_dict()\n",
    "for name, param in pretrained_state_dict.items():\n",
    "    if 'generator' in name:\n",
    "         continue\n",
    "    if isinstance(param, torch.nn.Parameter):\n",
    "        param = param.data\n",
    "    model_state_dict[name].copy_(param)"
   ]
  },
  {
   "cell_type": "markdown",
   "metadata": {},
   "source": [
    "# Smoke Run"
   ]
  },
  {
   "cell_type": "code",
   "execution_count": null,
   "metadata": {
    "scrolled": true
   },
   "outputs": [],
   "source": [
    "batch = next(iter(data_loader))"
   ]
  },
  {
   "cell_type": "code",
   "execution_count": null,
   "metadata": {},
   "outputs": [],
   "source": [
    "class Molecule:\n",
    "    def __init__(self, distances_matrix, adj_matrix, edges_att):\n",
    "        self.distances_matrix = distances_matrix\n",
    "        self.adj_matrix = adj_matrix\n",
    "        self.edges_att = edges_att"
   ]
  },
  {
   "cell_type": "code",
   "execution_count": null,
   "metadata": {},
   "outputs": [],
   "source": [
    "# adjacency_matrix, node_features, distance_matrix, y = batch\n",
    "# batch_mask = torch.sum(torch.abs(node_features), dim=-1) != 0\n",
    "# output = model(node_features, node_features, batch_mask, batch_mask, Molecule(adjacency_matrix, distance_matrix, None))"
   ]
  },
  {
   "cell_type": "markdown",
   "metadata": {},
   "source": [
    "# Optimizer"
   ]
  },
  {
   "cell_type": "code",
   "execution_count": null,
   "metadata": {},
   "outputs": [],
   "source": [
    "class NoamOpt:\n",
    "    \"Optim wrapper that implements rate.\"\n",
    "    def __init__(self, model_size, factor, warmup, optimizer):\n",
    "        self.optimizer = optimizer\n",
    "        self._step = 0\n",
    "        self.warmup = warmup\n",
    "        self.factor = factor\n",
    "        self.model_size = model_size\n",
    "        self._rate = 0\n",
    "        \n",
    "    def step(self):\n",
    "        \"Update parameters and rate\"\n",
    "        self._step += 1\n",
    "        rate = self.rate()\n",
    "        for p in self.optimizer.param_groups:\n",
    "            p['lr'] = rate\n",
    "        self._rate = rate\n",
    "        self.optimizer.step()\n",
    "        \n",
    "    def rate(self, step = None):\n",
    "        \"Implement `lrate` above\"\n",
    "        if step is None:\n",
    "            step = self._step\n",
    "        return self.factor * \\\n",
    "            (self.model_size ** (-0.5) *\n",
    "            min(step ** (-0.5), step * self.warmup ** (-1.5)))\n",
    "        \n",
    "def get_std_opt(model):\n",
    "    return NoamOpt(model.src_embed[0].d_model, 2, 4000,\n",
    "            torch.optim.Adam(model.parameters(), lr=0, betas=(0.9, 0.98), eps=1e-9))"
   ]
  },
  {
   "cell_type": "markdown",
   "metadata": {},
   "source": [
    "# TRAINING"
   ]
  },
  {
   "cell_type": "code",
   "execution_count": null,
   "metadata": {},
   "outputs": [],
   "source": [
    "# Train the simple copy task.\n",
    "criterion = torch.nn.MSELoss()\n",
    "opt = NoamOpt(1024, 1, 400,\n",
    "                    torch.optim.Adam(model.parameters(), lr=0.0005, betas=(0.9, 0.98), eps=1e-9))\n",
    "\n",
    "model.train()\n",
    "for epoch in range(10):\n",
    "    running_loss = 0\n",
    "    for i, batch in enumerate(data_loader):\n",
    "        adjacency_matrix, node_features, distance_matrix, y = batch\n",
    "        batch_mask = torch.sum(torch.abs(node_features), dim=-1) != 0\n",
    "        \n",
    "        opt.optimizer.zero_grad()\n",
    "        output = model(node_features, node_features, batch_mask, batch_mask, \n",
    "                       Molecule(adjacency_matrix, distance_matrix, None))\n",
    "\n",
    "        loss = criterion(node_features,output)\n",
    "        loss.backward()\n",
    "        opt.optimizer.step()\n",
    "        running_loss += loss.item()\n",
    "        mean_loss = running_loss/(i+1)\n",
    "        print(mean_loss)"
   ]
  },
  {
   "cell_type": "markdown",
   "metadata": {},
   "source": [
    "# Gumble Softmax"
   ]
  },
  {
   "cell_type": "code",
   "execution_count": null,
   "metadata": {},
   "outputs": [],
   "source": [
    "import torch.nn.functional as F\n",
    "\n",
    "def loss_function(recon_x, x, qy):\n",
    "    CE = F.cross_entropy(recon_x, x, size_average=False) / x.shape[0]\n",
    "\n",
    "    log_ratio = torch.log(qy * 1024 + 1e-20)\n",
    "    KLD = torch.sum(qy * log_ratio, dim=-1).mean()\n",
    "\n",
    "    return CE + KLD"
   ]
  },
  {
   "cell_type": "code",
   "execution_count": null,
   "metadata": {},
   "outputs": [],
   "source": [
    "# Train the simple copy task.\n",
    "opt = NoamOpt(1024, 1, 400,\n",
    "                    torch.optim.Adam(model.parameters(), lr=0.005, betas=(0.9, 0.98), eps=1e-9))\n",
    "\n",
    "model.train()\n",
    "for epoch in range(10):\n",
    "    running_loss = 0\n",
    "    for i, batch in enumerate(data_loader):\n",
    "        adjacency_matrix, node_features, distance_matrix, y = batch\n",
    "        batch_mask = torch.sum(torch.abs(node_features), dim=-1) != 0\n",
    "        opt.optimizer.zero_grad()\n",
    "\n",
    "        output, qy = model(node_features, node_features, batch_mask, batch_mask, \n",
    "                       Molecule(adjacency_matrix, distance_matrix, None), gumbel=True, hard=True)\n",
    "\n",
    "        loss = loss_function(output, node_features, qy)\n",
    "        loss.backward()\n",
    "        \n",
    "        opt.optimizer.step()\n",
    "        running_loss += loss.item()\n",
    "        mean_loss = running_loss/(i+1)\n",
    "        print(mean_loss)"
   ]
  }
 ],
 "metadata": {
  "kernelspec": {
   "display_name": "MAT",
   "language": "python",
   "name": "mat"
  },
  "language_info": {
   "codemirror_mode": {
    "name": "ipython",
    "version": 3
   },
   "file_extension": ".py",
   "mimetype": "text/x-python",
   "name": "python",
   "nbconvert_exporter": "python",
   "pygments_lexer": "ipython3",
   "version": "3.7.11"
  }
 },
 "nbformat": 4,
 "nbformat_minor": 1
}
